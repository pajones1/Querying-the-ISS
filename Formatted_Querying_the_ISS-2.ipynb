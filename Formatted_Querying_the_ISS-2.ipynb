{
 "cells": [
  {
   "cell_type": "markdown",
   "id": "a8936ce3",
   "metadata": {},
   "source": [
    "# *Querying the International Space Station*"
   ]
  },
  {
   "cell_type": "markdown",
   "id": "e52df5c9",
   "metadata": {},
   "source": [
    "## The OpenNotify API"
   ]
  },
  {
   "cell_type": "markdown",
   "id": "3509d0b6",
   "metadata": {},
   "source": [
    "The OpenNotify API provides real-time data about the International Space Station (ISS) through a simple, authentication-free interface. Since it follows standard HTTP protocols and returns data in JSON format, it does not require a dedicated Python library. However, using Python's requests and json libraries simplifies sending requests and handling responses."
   ]
  },
  {
   "cell_type": "code",
   "execution_count": null,
   "id": "6390e062",
   "metadata": {},
   "outputs": [],
   "source": [
    "import requests\n",
    "import json\n",
    "from datetime import datetime, date, time"
   ]
  },
  {
   "cell_type": "markdown",
   "id": "fcd995a3",
   "metadata": {},
   "source": [
    "This request fetches the latest position of the international space station:"
   ]
  },
  {
   "cell_type": "code",
   "execution_count": null,
   "id": "a600bc00",
   "metadata": {},
   "outputs": [],
   "source": [
    "response = requests.get(\"http://api.open-notify.org/iss-now.json\")"
   ]
  },
  {
   "cell_type": "markdown",
   "id": "e99739cc",
   "metadata": {},
   "source": [
    "Print the status code and text of the response:"
   ]
  },
  {
   "cell_type": "code",
   "execution_count": null,
   "id": "d6f2a08a",
   "metadata": {},
   "outputs": [],
   "source": [
    "print(response.status_code)"
   ]
  },
  {
   "cell_type": "code",
   "execution_count": null,
   "id": "8ea98b30",
   "metadata": {},
   "outputs": [],
   "source": [
    "data = response.json()"
   ]
  },
  {
   "cell_type": "markdown",
   "id": "56ba4242",
   "metadata": {},
   "source": [
    "Another API allows us to retrieve the ISS's current position and predict the next few times it will pass over a specific location. For example, Sydney is located at latitude -33.87 and longitude 151.21."
   ]
  },
  {
   "cell_type": "code",
   "execution_count": null,
   "id": "101f93f5",
   "metadata": {},
   "outputs": [],
   "source": [
    "response = requests.get(\"https://api.g7vrd.co.uk/v1/satellite-passes/25544/-33.87/151.21.json?minelevation=0&hours=24\")"
   ]
  },
  {
   "cell_type": "markdown",
   "id": "3153a43e",
   "metadata": {},
   "source": [
    "### Inspecting the Response Header"
   ]
  },
  {
   "cell_type": "code",
   "execution_count": null,
   "id": "3f63535d",
   "metadata": {},
   "outputs": [],
   "source": [
    "response.headers"
   ]
  },
  {
   "cell_type": "markdown",
   "id": "9b68dba2",
   "metadata": {},
   "source": [
    "### Viewing API Response Data (the data that the server returned):"
   ]
  },
  {
   "cell_type": "code",
   "execution_count": null,
   "id": "021cb508",
   "metadata": {},
   "outputs": [],
   "source": [
    "data = response.json()\n",
    "data"
   ]
  },
  {
   "cell_type": "markdown",
   "id": "43c44a3f",
   "metadata": {},
   "source": [
    "Note that this is a Python byte string:"
   ]
  },
  {
   "cell_type": "code",
   "execution_count": null,
   "id": "c2a1a512",
   "metadata": {},
   "outputs": [],
   "source": [
    "print(type(response.content))"
   ]
  },
  {
   "cell_type": "markdown",
   "id": "dc6960e9",
   "metadata": {},
   "source": [
    "Print just the \"content-type\" value from the header:"
   ]
  },
  {
   "cell_type": "code",
   "execution_count": null,
   "id": "7f3c71bb",
   "metadata": {},
   "outputs": [],
   "source": [
    "response.headers['Content-Type']"
   ]
  },
  {
   "cell_type": "markdown",
   "id": "c75f0930",
   "metadata": {},
   "source": [
    "JSON was designed to be easy for computers to read, not for people. The `requests` library can decode the JSON byte string:"
   ]
  },
  {
   "cell_type": "code",
   "execution_count": null,
   "id": "355acfe7",
   "metadata": {},
   "outputs": [],
   "source": [
    "overheads = response.json()\n",
    "print(overheads)"
   ]
  },
  {
   "cell_type": "markdown",
   "id": "00a70ca0",
   "metadata": {},
   "source": [
    "What kind of object did this give us?"
   ]
  },
  {
   "cell_type": "code",
   "execution_count": null,
   "id": "4f81c463",
   "metadata": {},
   "outputs": [],
   "source": [
    "print(type(overheads))\n",
    "# The 'type()' function provides the obj type.\n",
    "# For this it provides the class dict since 'overheads' is a dictonary representing JSON"
   ]
  },
  {
   "cell_type": "markdown",
   "id": "732f6618",
   "metadata": {},
   "source": [
    "Python dicts are easier to work with, but the data we want is still buried in that data structure, so we have to dig it out. First, extract the `passes` value to a separate list:"
   ]
  },
  {
   "cell_type": "code",
   "execution_count": null,
   "id": "ddd6978d",
   "metadata": {},
   "outputs": [],
   "source": [
    "pass_list = overheads['passes']\n",
    "pass_list\n",
    "# Extract 'passes' from overheads then assign it to a new variable."
   ]
  },
  {
   "cell_type": "markdown",
   "id": "b903df7e",
   "metadata": {},
   "source": [
    "Now extract the `start` strings into an array called `srisetimes`:"
   ]
  },
  {
   "cell_type": "code",
   "execution_count": null,
   "id": "f522c4aa",
   "metadata": {},
   "outputs": [],
   "source": [
    "srisetimes = [i['start'] for i in pass_list]\n",
    "srisetimes\n",
    "\n",
    "# Syntax for list comprehension newlist = [expression for item in iterable if condition == True]\n",
    "# This dose not include the True becuase it's automatic."
   ]
  },
  {
   "cell_type": "markdown",
   "id": "4b64a30c",
   "metadata": {},
   "source": [
    "These are strings. We convert these to an array of Python `datetime` values called `risetimes`:"
   ]
  },
  {
   "cell_type": "code",
   "execution_count": null,
   "id": "c39d3c16",
   "metadata": {},
   "outputs": [],
   "source": [
    "risetimes = [datetime.strptime(xpass['start'], \"%Y-%m-%dT%H:%M:%S.%fZ\") for xpass in pass_list]\n",
    "risetimes\n",
    "\n",
    "# The 'datetime.strptime()' function is used to convert the string to a datetime object.\n",
    "# The first argument is the string to be converted, and the second argument is the format of the string.\n",
    "# xpass is the iterable object and 'start' is the key in the dictionary."
   ]
  },
  {
   "cell_type": "markdown",
   "id": "4d7e8627",
   "metadata": {},
   "source": [
    "Finally, use `risetime.strftime` to print these in a format that people understand:\n",
    "\n",
    "```\n",
    "e.g.\n",
    "18/10/22 07:05\n",
    "18/10/22 08:41\n",
    "18/10/22 10:20\n",
    "18/10/22 12:00\n",
    "18/10/22 01:37\n",
    "18/10/22 03:13\n",
    "```\n",
    "\n"
   ]
  },
  {
   "cell_type": "code",
   "execution_count": null,
   "id": "61684af4",
   "metadata": {},
   "outputs": [],
   "source": [
    "formatted_risetime = [i.strftime('%d/%m/%Y %H:%M:%S') for i in risetimes] # strftime() is a method that formats the date and time. i is the variable that holds the date and time.\n",
    "formatted_risetime # Print the formatted date and time."
   ]
  },
  {
   "cell_type": "markdown",
   "id": "4aab3e41",
   "metadata": {},
   "source": [
    "Finally, here is an endpoint that tells us who is on board:"
   ]
  },
  {
   "cell_type": "code",
   "execution_count": null,
   "id": "2868a00a",
   "metadata": {},
   "outputs": [],
   "source": [
    "response = requests.get(\"http://api.open-notify.org/astros.json\")"
   ]
  },
  {
   "cell_type": "markdown",
   "id": "1c15758a",
   "metadata": {},
   "source": [
    "Referring to the methods used above, extract the number of astronauts and their names:"
   ]
  },
  {
   "cell_type": "code",
   "execution_count": null,
   "id": "3c7cae13",
   "metadata": {},
   "outputs": [],
   "source": [
    "astronauts = response.json()\n",
    "astronauts"
   ]
  },
  {
   "cell_type": "markdown",
   "id": "4b621a1e",
   "metadata": {},
   "source": [
    "## More Practice\n"
   ]
  },
  {
   "cell_type": "markdown",
   "id": "4eba7197",
   "metadata": {},
   "source": [
    "1. Write a simple handler for the response status code (refer to lab resources slide for HTTP response codes). As this Jupyter Notebook is an interactive device, the handler does not need to manage subsequent code execution (i.e. by branching or aborting execution), although it should return something that could be used to do so if deployed in a Python program."
   ]
  },
  {
   "cell_type": "code",
   "execution_count": null,
   "id": "311fcea3",
   "metadata": {},
   "outputs": [],
   "source": [
    "def handleResponse(response, verbose=False): # Define the function 'handleResponse()' with two arguments.\n",
    "  '''\n",
    "  Returns Boolean Value, Status Code,\n",
    "  '''\n",
    "  # if Status Code is 200 return false, and status code\n",
    "  # Otherwise Return True and Status Code\n",
    "  if response.status_code == 200: # If the status code is 200\n",
    "    return False, response.status_code # Return False and the status code\n",
    "  else:\n",
    "    return True, response.status_code # Otherwise return True and the status code"
   ]
  },
  {
   "cell_type": "markdown",
   "id": "1ebe2eee",
   "metadata": {},
   "source": [
    "2. Test your response handler on some correct and incorrect API calls."
   ]
  },
  {
   "cell_type": "code",
   "execution_count": null,
   "id": "5ddf6b31",
   "metadata": {},
   "outputs": [],
   "source": [
    "response = requests.get(\"http://api.open-notify.org/astros.json\")\n",
    "if handleResponse(response)[0]: # If the first value of the tuple is True\n",
    "    print('API call failed. Resolve issue before continuing!')\n",
    "else:\n",
    "    print('API call successful!')\n",
    "\n",
    "# The function 'handleResponse()' is used to check the status code of the API call.\n",
    "# If the status code is 200, it returns False and the status code.\n",
    "# Otherwise, it returns True and the status code.\n",
    "# Both API calls are checked using the function 'handleResponse()'. If the first value of the tuple is True, it prints 'API call failed. Resolve issue before continuing!'\n",
    "# This API calls are successful, so the message is not printed."
   ]
  },
  {
   "cell_type": "code",
   "execution_count": null,
   "id": "15399fbc",
   "metadata": {},
   "outputs": [],
   "source": [
    "response = requests.get(\"http://api.open-notify.org/iss-now.json\")\n",
    "if handleResponse(response, True)[0]: # If the first value of the tuple is True\n",
    "    print('API call failed. Resolve issue before continuing!')\n",
    "else:\n",
    "    print('API call successful!')\n",
    "    \n",
    "# Otherwise, it returns True and the status code.\n",
    "# Both API calls are checked using the function 'handleResponse()'. If the first value of the tuple is True, it prints 'API call failed. Resolve issue before continuing!'\n",
    "# This API calls are successful, so the message is not printed."
   ]
  }
 ],
 "metadata": {
  "colab": {
   "provenance": [
    {
     "file_id": "1RknypYS3TD4wPumGiPV69EWtkq-3UBwF",
     "timestamp": 1553136072736
    }
   ]
  },
  "kernelspec": {
   "display_name": "Python 3 (ipykernel)",
   "language": "python",
   "name": "python3"
  },
  "language_info": {
   "codemirror_mode": {
    "name": "ipython",
    "version": 3
   },
   "file_extension": ".py",
   "mimetype": "text/x-python",
   "name": "python",
   "nbconvert_exporter": "python",
   "pygments_lexer": "ipython3",
   "version": "3.11.5"
  }
 },
 "nbformat": 4,
 "nbformat_minor": 5
}
